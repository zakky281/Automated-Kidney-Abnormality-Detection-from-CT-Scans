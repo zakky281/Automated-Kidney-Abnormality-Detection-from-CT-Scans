{
 "cells": [
  {
   "cell_type": "code",
   "execution_count": null,
   "id": "ccb21ea0",
   "metadata": {
    "id": "xr12AkGMteIk"
   },
   "outputs": [],
   "source": [
    "import tensorflow as tf\n",
    "import numpy as np\n",
    "import pandas as pd\n",
    "import matplotlib.pyplot as plt\n",
    "import seaborn as sns\n",
    "import random\n",
    "import os\n",
    "import shutil\n",
    "from PIL import Image\n",
    "from sklearn.model_selection import train_test_split\n",
    "from tensorflow.keras.preprocessing.image import ImageDataGenerator\n",
    "from tensorflow.keras.applications import ResNet50\n",
    "from tensorflow.keras.applications.resnet50 import preprocess_input\n",
    "from tensorflow.keras.models import Model\n",
    "from tensorflow.keras.layers import Dense, GlobalAveragePooling2D\n",
    "from tensorflow.keras.optimizers import Adam\n",
    "from tensorflow.keras import callbacks\n",
    "from sklearn.metrics import confusion_matrix, classification_report\n",
    "\n",
    "\n",
    "# === IMAGE PARAMETERS ===\n",
    "IMG_SIZE = 224\n",
    "BATCH_SIZE = 32\n",
    "EPOCHS = 10"
   ]
  },
  {
   "cell_type": "code",
   "execution_count": null,
   "id": "b653e4bc",
   "metadata": {},
   "outputs": [],
   "source": [
    "import os\n",
    "os.environ[\"TF_CPP_MIN_LOG_LEVEL\"] = \"0\"\n",
    "os.environ[\"CUDA_VISIBLE_DEVICES\"] = \"0\"\n",
    "\n",
    "import tensorflow as tf\n",
    "\n",
    "print(\"TensorFlow version:\", tf.__version__)\n",
    "print(\"GPU devices:\", tf.config.list_physical_devices('GPU'))\n",
    "\n",
    "# Test memory growth (this fails if cuDNN is mislinked)\n",
    "try:\n",
    "    gpus = tf.config.list_physical_devices('GPU')\n",
    "    if gpus:\n",
    "        tf.config.experimental.set_memory_growth(gpus[0], True)\n",
    "        print(\"GPU memory growth set\")\n",
    "    else:\n",
    "        print(\"Still no GPU found 😭\")\n",
    "except Exception as e:\n",
    "    print(\"GPU error:\", e)\n"
   ]
  },
  {
   "cell_type": "code",
   "execution_count": 2,
   "id": "17baf97a",
   "metadata": {},
   "outputs": [
    {
     "name": "stdout",
     "output_type": "stream",
     "text": [
      "[name: \"/device:CPU:0\"\n",
      "device_type: \"CPU\"\n",
      "memory_limit: 268435456\n",
      "locality {\n",
      "}\n",
      "incarnation: 732361681749354478\n",
      "xla_global_id: -1\n",
      "]\n",
      "Num GPUs Available: 0\n",
      "\n",
      "kalau keluar device_type: GPU, berarti sudah menggunakan GPU, congrats yay!\n",
      "kalau keluar device_type: CPU, berarti masih pake cpu, yang sabar ya :(\n"
     ]
    }
   ],
   "source": [
    "from tensorflow.python.client import device_lib\n",
    "print(device_lib.list_local_devices())\n",
    "\n",
    "import tensorflow as tf\n",
    "print(\"Num GPUs Available:\", len(tf.config.list_physical_devices('GPU')))\n",
    "\n",
    "print(\"\\nkalau keluar device_type: GPU, berarti sudah menggunakan GPU, congrats yay!\")\n",
    "print(\"kalau keluar device_type: CPU, berarti masih pake cpu, yang sabar ya :(\")"
   ]
  },
  {
   "cell_type": "code",
   "execution_count": null,
   "id": "aa0c7d51",
   "metadata": {
    "id": "vWyL47Qetvid"
   },
   "outputs": [],
   "source": [
    "import os\n",
    "import pandas as pd\n",
    "from sklearn.model_selection import train_test_split\n",
    "\n",
    "# === SET PATH ===\n",
    "dataset_path = \"./data/CT-KIDNEY-DATASET-Normal-Cyst-Tumor-Stone/CT-KIDNEY-DATASET-Normal-Cyst-Tumor-Stone/CT-KIDNEY-DATASET-Normal-Cyst-Tumor-Stone\"\n",
    "output_dir = \"./split_dataset\"\n",
    "os.makedirs(output_dir, exist_ok=True)\n",
    "\n",
    "# === CREATING TRAIN, VALIDATION, TEST SPLIT ===\n",
    "all_images = []\n",
    "all_labels = []\n",
    "\n",
    "for class_name in os.listdir(dataset_path):\n",
    "    class_path = os.path.join(dataset_path, class_name)\n",
    "    if os.path.isdir(class_path):\n",
    "        for img_name in os.listdir(class_path):\n",
    "            img_path = os.path.join(class_path, img_name)\n",
    "            all_images.append(img_path)\n",
    "            all_labels.append(class_name)\n",
    "\n",
    "df = pd.DataFrame({\"image\": all_images, \"label\": all_labels})\n",
    "\n",
    "# Split dataset: 70% Train, 15% Val, 15% Test\n",
    "train_df, temp_df = train_test_split(df, test_size=0.4, stratify=df[\"label\"], random_state=42)\n",
    "val_df, test_df = train_test_split(temp_df, test_size=0.5, stratify=temp_df[\"label\"], random_state=42)\n",
    "\n",
    "train_df.reset_index(drop=True, inplace=True)\n",
    "val_df.reset_index(drop=True, inplace=True)\n",
    "test_df.reset_index(drop=True, inplace=True)"
   ]
  },
  {
   "cell_type": "code",
   "execution_count": null,
   "id": "efe22711",
   "metadata": {},
   "outputs": [],
   "source": [
    "print(\"Unique labels:\", df[\"label\"].unique())"
   ]
  },
  {
   "cell_type": "code",
   "execution_count": null,
   "id": "07e715e1",
   "metadata": {
    "colab": {
     "base_uri": "https://localhost:8080/"
    },
    "id": "HIJ3vHUltzAt",
    "outputId": "f4e7ecf9-efc8-45d7-e275-26348b482f95"
   },
   "outputs": [],
   "source": [
    "# === IMAGE DATA GENERATORS WITH AUGMENTATION ===\n",
    "train_datagen = ImageDataGenerator(\n",
    "    preprocessing_function=preprocess_input,  # ResNet50 specific preprocessing\n",
    "    rotation_range=20,        # Random rotation (0-20 degrees)\n",
    "    width_shift_range=0.2,    # Random width shift (20% of width)\n",
    "    height_shift_range=0.2,   # Random height shift (20% of height)\n",
    "    zoom_range=0.2,           # Random zoom\n",
    "    horizontal_flip=True      # Random horizontal flip\n",
    ")\n",
    "\n",
    "val_test_datagen = ImageDataGenerator(preprocessing_function=preprocess_input)  # No augmentation for val/test\n",
    "\n",
    "train_generator = train_datagen.flow_from_dataframe(\n",
    "    train_df,\n",
    "    x_col=\"image\",\n",
    "    y_col=\"label\",\n",
    "    target_size=(IMG_SIZE, IMG_SIZE),\n",
    "    batch_size=BATCH_SIZE,\n",
    "    class_mode=\"categorical\"\n",
    ")\n",
    "\n",
    "val_generator = val_test_datagen.flow_from_dataframe(\n",
    "    val_df,\n",
    "    x_col=\"image\",\n",
    "    y_col=\"label\",\n",
    "    target_size=(IMG_SIZE, IMG_SIZE),\n",
    "    batch_size=BATCH_SIZE,\n",
    "    class_mode=\"categorical\"\n",
    ")\n",
    "\n",
    "test_generator = val_test_datagen.flow_from_dataframe(\n",
    "    test_df,\n",
    "    x_col=\"image\",\n",
    "    y_col=\"label\",\n",
    "    target_size=(IMG_SIZE, IMG_SIZE),\n",
    "    batch_size=BATCH_SIZE,\n",
    "    class_mode=\"categorical\",\n",
    "    shuffle=False  # Important for evaluation\n",
    ")"
   ]
  },
  {
   "cell_type": "code",
   "execution_count": null,
   "id": "3ac39252",
   "metadata": {
    "id": "pg8rxjj3t12l"
   },
   "outputs": [],
   "source": [
    "def show_images(path,title,cmap=None):\n",
    "    labels = list(os.listdir(path))\n",
    "    fig, axes = plt.subplots(nrows=2, ncols=5, figsize=(15, 6))\n",
    "    random_indices = random.sample(range(1, 101), 10)\n",
    "\n",
    "    for i, idx in enumerate(random_indices, 1):\n",
    "        file_path = os.path.join(path, labels[idx])\n",
    "        image = Image.open(file_path)\n",
    "        subplot_row = (i - 1) // 5\n",
    "        subplot_col = (i - 1) % 5\n",
    "        axes[subplot_row, subplot_col].imshow(image, cmap=cmap)\n",
    "        axes[subplot_row, subplot_col].axis('off')\n",
    "    plt.suptitle(title, fontsize=20)\n",
    "    plt.tight_layout()\n",
    "    plt.show()"
   ]
  },
  {
   "cell_type": "code",
   "execution_count": null,
   "id": "9a68a779",
   "metadata": {
    "colab": {
     "base_uri": "https://localhost:8080/",
     "height": 583
    },
    "id": "-nTD4CWGtMnS",
    "outputId": "3d4436d0-d203-47fe-aca1-5ff383d914ee"
   },
   "outputs": [],
   "source": [
    "# Healthy Kidney\n",
    "show_images(os.path.join(dataset_path+\"/Normal\"),\"Normal\")"
   ]
  },
  {
   "cell_type": "code",
   "execution_count": null,
   "id": "62b85e6b",
   "metadata": {
    "colab": {
     "base_uri": "https://localhost:8080/",
     "height": 588
    },
    "id": "pUiiRzIqtPIf",
    "outputId": "e48b44d0-f07f-4083-9497-3240d873369f"
   },
   "outputs": [],
   "source": [
    "# Cyst\n",
    "show_images(os.path.join(dataset_path+\"/Cyst\"),\"Cyst\")"
   ]
  },
  {
   "cell_type": "code",
   "execution_count": null,
   "id": "8de540b5",
   "metadata": {
    "colab": {
     "base_uri": "https://localhost:8080/",
     "height": 583
    },
    "id": "mhuIwQ8mtPrr",
    "outputId": "579a02f1-0967-460d-9340-96ba61e25854"
   },
   "outputs": [],
   "source": [
    "# Stone\n",
    "show_images(os.path.join(dataset_path+\"/Stone\"),\"Stone\")\n"
   ]
  },
  {
   "cell_type": "code",
   "execution_count": null,
   "id": "64b19bb4",
   "metadata": {
    "colab": {
     "base_uri": "https://localhost:8080/",
     "height": 579
    },
    "id": "KWUKG1dbtUXo",
    "outputId": "43003836-ed34-43b3-d485-bc846a6df4e9"
   },
   "outputs": [],
   "source": [
    "# Tumor\n",
    "show_images(os.path.join(dataset_path+\"/Tumor\"),\"Tumor\")"
   ]
  },
  {
   "cell_type": "code",
   "execution_count": null,
   "id": "2cb3fba7",
   "metadata": {
    "colab": {
     "base_uri": "https://localhost:8080/",
     "height": 459
    },
    "id": "NMaeCQy1uZYG",
    "outputId": "0cb8782c-6bc4-4952-c3c8-8febe0f41d3f"
   },
   "outputs": [],
   "source": [
    "# === PLOT CLASS DISTRIBUTION ===\n",
    "def plot_class_distribution(df, title, subplot_idx):\n",
    "    class_counts = df[\"label\"].value_counts()\n",
    "    plt.subplot(1, 3, subplot_idx)\n",
    "    plt.pie(class_counts, labels=class_counts.index, autopct='%1.1f%%', startangle=90, colors=plt.cm.Paired.colors)\n",
    "    plt.title(title)\n",
    "\n",
    "plt.figure(figsize=(18, 6))\n",
    "plot_class_distribution(train_df, \"Training Set Class Distribution\", 1)\n",
    "plot_class_distribution(val_df, \"Validation Set Class Distribution\", 2)\n",
    "plot_class_distribution(test_df, \"Test Set Class Distribution\", 3)\n",
    "plt.show()"
   ]
  },
  {
   "cell_type": "code",
   "execution_count": null,
   "id": "60f3de76",
   "metadata": {
    "id": "v5elQDUcua_v"
   },
   "outputs": [],
   "source": [
    "# === LOAD RESNET50 MODEL ===\n",
    "base_model = ResNet50(weights=\"imagenet\", include_top=False, input_shape=(IMG_SIZE, IMG_SIZE, 3))\n",
    "\n",
    "# === FREEZE BASE LAYERS ===\n",
    "for layer in base_model.layers:\n",
    "    layer.trainable = False  # Freeze all layers initially\n",
    "\n",
    "# === ADD CUSTOM LAYERS ===\n",
    "x = base_model.output\n",
    "x = GlobalAveragePooling2D()(x)\n",
    "x = Dense(256, activation=\"relu\")(x)\n",
    "x = Dense(128, activation=\"relu\")(x)\n",
    "x = Dense(64, activation=\"relu\")(x)\n",
    "x = Dense(len(df[\"label\"].unique()), activation=\"softmax\")(x)  # Output layer with # of classes\n",
    "\n",
    "# === CREATE FINAL MODEL ===\n",
    "model = Model(inputs=base_model.input, outputs=x)"
   ]
  },
  {
   "cell_type": "code",
   "execution_count": null,
   "id": "ae63b590",
   "metadata": {
    "id": "r3m98792yon7"
   },
   "outputs": [],
   "source": [
    "# Define Callbacks\n",
    "lr_callback = callbacks.ReduceLROnPlateau(monitor = 'val_recall', factor = 0.1, patience = 5)\n",
    "stop_callback = callbacks.EarlyStopping(monitor = 'val_recall', patience = 5)"
   ]
  },
  {
   "cell_type": "code",
   "execution_count": null,
   "id": "bb66e41e",
   "metadata": {
    "id": "8sxu5wquytKI"
   },
   "outputs": [],
   "source": [
    "# === COMPILE MODEL ===\n",
    "model.compile(\n",
    "    optimizer=Adam(learning_rate=0.0001),\n",
    "    loss=\"categorical_crossentropy\",\n",
    "    metrics=[\n",
    "        \"accuracy\",\n",
    "        tf.keras.metrics.Precision(name=\"precision\"),\n",
    "        tf.keras.metrics.Recall(name=\"recall\")\n",
    "    ]\n",
    ")"
   ]
  },
  {
   "cell_type": "code",
   "execution_count": null,
   "id": "501ebe69",
   "metadata": {
    "colab": {
     "base_uri": "https://localhost:8080/"
    },
    "id": "RMbWOzYxywtM",
    "outputId": "86534bb7-869b-4c9d-f8c7-706b40dd1470"
   },
   "outputs": [],
   "source": [
    "# === TRAIN MODEL ===\n",
    "history = model.fit(\n",
    "    train_generator,\n",
    "    validation_data=val_generator,\n",
    "    epochs=EPOCHS,\n",
    "    callbacks = [lr_callback, stop_callback]\n",
    ")"
   ]
  },
  {
   "cell_type": "code",
   "execution_count": null,
   "id": "bb279bd1",
   "metadata": {
    "colab": {
     "base_uri": "https://localhost:8080/",
     "height": 487
    },
    "id": "XoEzRlGJ-J4O",
    "outputId": "3596f5dd-0251-49c9-a105-5793ba64929d"
   },
   "outputs": [],
   "source": [
    "# === PLOT TRAINING HISTORY ===\n",
    "plt.figure(figsize=(12, 5))\n",
    "\n",
    "# Accuracy plot\n",
    "plt.subplot(1, 3, 1)\n",
    "plt.plot(history.history[\"accuracy\"], label=\"Train Accuracy\")\n",
    "plt.plot(history.history[\"val_accuracy\"], label=\"Validation Accuracy\")\n",
    "plt.xlabel(\"Epochs\")\n",
    "plt.ylabel(\"Accuracy\")\n",
    "plt.legend()\n",
    "plt.title(\"Training vs Validation Accuracy\")\n",
    "\n",
    "# Precision plot\n",
    "plt.subplot(1, 3, 2)\n",
    "plt.plot(history.history[\"precision\"], label=\"Train Precision\")\n",
    "plt.plot(history.history[\"val_precision\"], label=\"Validation Precision\")\n",
    "plt.xlabel(\"Epochs\")\n",
    "plt.ylabel(\"Precision\")\n",
    "plt.legend()\n",
    "plt.title(\"Training vs Validation Precision\")\n",
    "\n",
    "# Recall plot\n",
    "plt.subplot(1, 3, 3)\n",
    "plt.plot(history.history[\"recall\"], label=\"Train Recall\")\n",
    "plt.plot(history.history[\"val_recall\"], label=\"Validation Recall\")\n",
    "plt.xlabel(\"Epochs\")\n",
    "plt.ylabel(\"Recall\")\n",
    "plt.legend()\n",
    "plt.title(\"Training vs Validation Recall\")\n",
    "\n",
    "plt.show()"
   ]
  },
  {
   "cell_type": "code",
   "execution_count": null,
   "id": "509171db",
   "metadata": {
    "colab": {
     "base_uri": "https://localhost:8080/"
    },
    "id": "qloenhUn-OhZ",
    "outputId": "ffcb1797-bc7c-4387-bad3-9dc9a78e1e55"
   },
   "outputs": [],
   "source": [
    "# === EVALUATE MODEL ON TEST DATA ===\n",
    "test_loss, test_acc, test_precision, test_recall = model.evaluate(test_generator)\n",
    "print(f\"Test Accuracy: {test_acc:.4f}\")\n",
    "print(f\"Test Precision: {test_precision:.4f}\")\n",
    "print(f\"Test Recall: {test_recall:.4f}\")"
   ]
  },
  {
   "cell_type": "code",
   "execution_count": null,
   "id": "a936e41e",
   "metadata": {
    "colab": {
     "base_uri": "https://localhost:8080/"
    },
    "id": "yf9GxpHp-VG0",
    "outputId": "52a5d1f2-4d89-4ebe-858e-f1fb98fdda2a"
   },
   "outputs": [],
   "source": [
    "# === CLASSIFICATION REPORT ===\n",
    "y_pred = model.predict(test_generator)\n",
    "y_pred_classes = np.argmax(y_pred, axis=1)\n",
    "y_true = test_generator.classes\n",
    "\n",
    "print(\"Classification Report:\")\n",
    "print(classification_report(y_true, y_pred_classes, target_names=test_generator.class_indices.keys()))"
   ]
  },
  {
   "cell_type": "code",
   "execution_count": null,
   "id": "98b7b4cc",
   "metadata": {
    "colab": {
     "base_uri": "https://localhost:8080/",
     "height": 564
    },
    "id": "PN1Ed58y-dl7",
    "outputId": "6de8d31b-f8fb-45cd-ba96-e0b8aebb73cb"
   },
   "outputs": [],
   "source": [
    "# === CONFUSION MATRIX ===\n",
    "cm = confusion_matrix(y_true, y_pred_classes)\n",
    "plt.figure(figsize=(6, 6))\n",
    "sns.heatmap(cm, annot=True, fmt=\"d\", cmap=\"Blues\", xticklabels=test_generator.class_indices.keys(), yticklabels=test_generator.class_indices.keys())\n",
    "plt.xlabel(\"Predicted\")\n",
    "plt.ylabel(\"True\")\n",
    "plt.title(\"Confusion Matrix\")\n",
    "plt.show()"
   ]
  },
  {
   "cell_type": "code",
   "execution_count": null,
   "id": "700f3c9c",
   "metadata": {
    "id": "fQYMH14r-fPv"
   },
   "outputs": [],
   "source": [
    "# === SAVE MODEL ===\n",
    "model.save('my_model.keras')"
   ]
  },
  {
   "cell_type": "code",
   "execution_count": null,
   "id": "1b0a9d1f",
   "metadata": {
    "colab": {
     "base_uri": "https://localhost:8080/",
     "height": 38
    },
    "id": "KMv1TybUdPV-",
    "outputId": "15d1a35c-26b8-440b-aef5-1077b9afbb64"
   },
   "outputs": [],
   "source": [
    "from tensorflow.keras.models import load_model\n",
    "import numpy as np\n",
    "import cv2\n",
    "import matplotlib.pyplot as plt\n",
    "from tensorflow.keras.applications.resnet50 import preprocess_input\n",
    "\n",
    "# === UPLOAD GAMBAR ===\n",
    "uploaded = files.upload()  # Upload 1 atau lebih gambar dari lokal\n",
    "\n",
    "# === LOAD MODEL (format .keras) ===\n",
    "model = load_model(\"/content/my_model.keras\")  # Sesuaikan path model\n",
    "\n",
    "# === URUTAN KELAS (sesuai saat training) ===\n",
    "class_names = sorted(os.listdir(\"/content/CT-KIDNEY-DATASET-Normal-Cyst-Tumor-Stone/CT-KIDNEY-DATASET-Normal-Cyst-Tumor-Stone\"))\n",
    "# Hasilnya: ['Cyst', 'Normal', 'Stone', 'Tumor'] atau sesuai isi folder\n",
    "\n",
    "# === PREDIKSI SETIAP GAMBAR YANG DIUPLOAD ===\n",
    "for filename in uploaded.keys():\n",
    "    # Baca gambar dan ubah ke ukuran ResNet50\n",
    "    img = cv2.imread(filename)\n",
    "    img_rgb = cv2.cvtColor(img, cv2.COLOR_BGR2RGB)\n",
    "    img_resized = cv2.resize(img_rgb, (224, 224))  # ResNet50 input\n",
    "    img_array = preprocess_input(np.expand_dims(img_resized, axis=0))\n",
    "\n",
    "    # Prediksi\n",
    "    prediction = model.predict(img_array)\n",
    "    predicted_class = class_names[np.argmax(prediction)]\n",
    "\n",
    "    # Tampilkan hasil prediksi\n",
    "    plt.imshow(img_rgb)\n",
    "    plt.title(f\"Predicted: {predicted_class}\")\n",
    "    plt.axis('off')\n",
    "    plt.show()"
   ]
  }
 ],
 "metadata": {
  "accelerator": "GPU",
  "colab": {
   "gpuType": "T4",
   "provenance": []
  },
  "kernelspec": {
   "display_name": "tf_env",
   "language": "python",
   "name": "python3"
  },
  "language_info": {
   "codemirror_mode": {
    "name": "ipython",
    "version": 3
   },
   "file_extension": ".py",
   "mimetype": "text/x-python",
   "name": "python",
   "nbconvert_exporter": "python",
   "pygments_lexer": "ipython3",
   "version": "3.11.9"
  }
 },
 "nbformat": 4,
 "nbformat_minor": 5
}
